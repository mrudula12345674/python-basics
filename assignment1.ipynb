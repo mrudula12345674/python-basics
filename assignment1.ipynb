{
  "nbformat": 4,
  "nbformat_minor": 0,
  "metadata": {
    "colab": {
      "provenance": []
    },
    "kernelspec": {
      "name": "python3",
      "display_name": "Python 3"
    },
    "language_info": {
      "name": "python"
    }
  },
  "cells": [
    {
      "cell_type": "code",
      "execution_count": null,
      "metadata": {
        "id": "CdVOM5dhVwco"
      },
      "outputs": [],
      "source": []
    },
    {
      "cell_type": "markdown",
      "source": [
        "1.what is python ,and why is it popular?\n",
        "-->python is a programmi g language that’s popular because its easy to learn, versatile, and has many librarires. Its used for  many applications including web development, data science, machine learning, to analyze data, and automate tasks.\n",
        "\n",
        "2.What is an interpreter in Python?\n",
        "-->Interpreters are the computer program that will convert the source code or an high level language into intermediate code (machine level language). It is also called translator in programming terminology. Interpreters executes each line of statements slowly. This process is called Interpretation.\n",
        "\n",
        "3.What are pre-defined keywords in Python?\n",
        "-->Predefined keywords are words that have specific meaning .they are part of syntax and can not be changed.Keywoeds define structure and syntax of the langyage.\n",
        "\n",
        "Examples:\n",
        "def,else,list,if,and,lambda,in,is,or,print,etc.\n",
        "\n",
        "\n",
        "  4.Can keywords be used as variable names?\n",
        "\n",
        "  -->Keywords cannot be used as variable names because they are uesd to define structure and syntax of the language.keywords are reserved words in python.\n",
        "\n",
        "  5.What is mutability in python?\n",
        "  \n",
        "  -->Mutability refers to whether elements of an object can be modified or not.for example, we can replace an object in a list as:\n",
        "  \n",
        "  l1=[1,2,3,4,5]\n",
        "  \n",
        "  print(l1) output will be:[1,2,3,4,5]\n",
        "  \n",
        "  l1[3]=6\n",
        "  \n",
        "  print(l1) output will be:[1,2,3,6,5] 4 which is at index 3  is replaced by 6.\n",
        "\n",
        "  6.Why are lists mutable, but tuples are immutable?\n",
        " -->Tuples are immutable because once defined, tuples have a fixed length and we cannot change the order of items or reassign an item  while lists  are mutable because they have dynamic length and you can change the order of items in a list or reassign an item in a list.. Tuples use less memory and are faster to access than to lists\n",
        "\n",
        "7.What is the difference between “==” and “is” operators in Python?\n",
        "-->‘is’ and ’ ==’ , both operators are used for comparison .The equality operator compares the values of two objects. It's used to determine if two objects have the same content or data. The identity operator compares whether two variables point to the same object in memory. It's used to determine if two references are identical.\n",
        "\n",
        "8.What are logical operators in Python?\n",
        "\n",
        "-->Logical operators check whether a condition is true or not.Logical operators are used to combine conditional statements, allowing us to perform operations based on multiple conditions.\n",
        "\n",
        "examples of logical operators:\n",
        "and: Returns True if both statements are true.\n",
        "or: Returns True if one of the statements is true.\n",
        "not: Reverses the result, returning False if the result is true.\n",
        "\n",
        "9.What is type casting in Python?\n",
        "\n",
        "-->In python we can change the data type of a variable by using type casting.It allows for flexible data manipulation and operations within a program.\n",
        "\n",
        "There are two types of type casting:\n",
        "a.implicite:automatically converts one data type to another without any explicit instruction from the programmer.\n",
        "\n",
        "b.explicite: programmer uses predefined functions to convert an object's data type to the required data type.\n",
        "\n",
        "10.What is the difference between implicit and explicit type casting?\n",
        "\n",
        "-->Implicit type casting occurs automatically by the interpreter while explicit type casting occur when programmer to uses built-in functions  to specify the desired data type conversion.\n",
        "\n",
        " 11.What is the purpose of conditional statements in Python?\n",
        "\n",
        " -->Conditional statements in Python are used to execute certain blocks of code based on specific conditions. These statements help control the flow of a program, making it behave differently in different situations.\n",
        "\n",
        " Conditional statement:\n",
        "\n",
        "a. if conditional statement:It executes a block of code if the given condition is true.\n",
        "\n",
        " syntax: if(condition):\n",
        "            \n",
        "             block of code\n",
        "\n",
        "b.if-else conditional statement:\n",
        "It allows us to specify a block of code that will execute if the condition associated with an if or elif statement evaluates to False. Else block provides a way to handle all other cases that don't meet the specified conditions.\n",
        "\n",
        "syntax:if (condition):\n",
        "          \n",
        "           block of code which executes only when the condition is true.\n",
        "\n",
        "      else:\n",
        "          block of code which executes when the given condition is false.\n",
        "\n",
        "\n",
        "c. elif statement:\n",
        "elif statement in Python stands for \"else if.\" It allows us to check multiple conditions , providing a way to execute different blocks of code based on which condition is true. Using elif statements makes our code more readable and efficient by eliminating the need for multiple nested if statements.\n",
        "\n",
        "syntax:if(condition1):\n",
        "           \n",
        "           block of code\n",
        "\n",
        "      elif(condition2):\n",
        "         \n",
        "          block of code  which executes when the condition1 is false but condition 2 is true.\n",
        "\n",
        "      else:\n",
        "          \n",
        "          block of code which executes when  all the conditions are false.\n",
        "    \n",
        "12.How does the elif statement work?\n",
        "\n",
        "-->elif keyword is pythons way of saying \"if the previous conditions were not true, then try this condition\".\n",
        "\n",
        "syntax:\n",
        "\n",
        " if(condition):\n",
        "    \n",
        "     block of code\n",
        "\n",
        " elif(condition2):\n",
        "    \n",
        "     block of code\n",
        "\n",
        "  example code:\n",
        "  \n",
        "  n=int(input(\"Enter a number:\"))\n",
        "  \n",
        "  if n>10:\n",
        "      \n",
        "      print(\"The number is greater than 10\")\n",
        "\n",
        "elif n< 10:\n",
        "    \n",
        "     print(\"The number is less than 10\")\n",
        "\n",
        "output:\n",
        "enter a number:3\n",
        "\n",
        "the number is less than 10\n",
        "\n",
        "  \n",
        "13.What is the difference between for and while loops?\n",
        "\n",
        " -->a.For loop is used to iterate over a sequence of items.While,while loop is used to repeatedly execute a block of statements while a condition is true.\n",
        "\n",
        " b.For loops are designed for iterating over a sequence of items. Eg. list, tuple, etc.While loop is used when the number of iterations is not known in advance or when we want to repeat a block of code until a certain condition is met.\n",
        "\n",
        " c.For loop require a sequence to iterate over.While the loop requires an initial condition that is tested at the beginning of the loop.\n",
        "\n",
        "\n",
        " 14.Describe a scenario where a while loop is more suitable than a for loop?\n",
        "\n",
        " -->for loop is used to iterate over a sequence of elements.for loops are not as much as efficient as while loop for executing a block of code performing a certain task.\n",
        "\n",
        " eg.\n",
        " program to to input name and address of n number of students.\n",
        "\n",
        " n=int(input(\"Enter the number of students\"))\n",
        "\n",
        " i=1\n",
        "\n",
        " while i<=n:\n",
        "     \n",
        "     name=input(\"Enter name:\")\n",
        "     \n",
        "     add=input(\"Enter address:\")\n",
        "     \n",
        "     print(name,add)\n",
        "  \n",
        "\n",
        "output:\n",
        "enter number of students:2\n",
        "\n",
        " enter name:raj\n",
        "\n",
        " enter address:mumbai\n",
        "\n",
        " raj\n",
        "\n",
        " mumbai\n",
        "\n",
        " enter name:riya\n",
        "\n",
        " enter address:delhi\n",
        "\n",
        " riya\n",
        "\n",
        " delhi\n",
        "\n",
        "    \n",
        "\n",
        "\n"
      ],
      "metadata": {
        "id": "6gtjItLWWFs8"
      }
    },
    {
      "cell_type": "code",
      "source": [
        "#1.Write a Python program to print \"Hello, World!\"\n",
        "print(\"Hellow, World!\")"
      ],
      "metadata": {
        "colab": {
          "base_uri": "https://localhost:8080/"
        },
        "id": "rM3vqkg7RYOk",
        "outputId": "7af7fc2b-1aca-4d8d-c02b-3d809fe5f53f"
      },
      "execution_count": 1,
      "outputs": [
        {
          "output_type": "stream",
          "name": "stdout",
          "text": [
            "Hellow, World!\n"
          ]
        }
      ]
    },
    {
      "cell_type": "code",
      "source": [
        "#2.Write a Python program that displays your name and age\n",
        "name=input(\"Enter your name:\")\n",
        "age=int(input(\"Enter your age:\"))\n",
        "print(name,\"\\n\",age)"
      ],
      "metadata": {
        "colab": {
          "base_uri": "https://localhost:8080/"
        },
        "id": "i_0VI6SfETO8",
        "outputId": "3ec9ca91-a8ef-4fdf-dbdb-1ae853f21a50"
      },
      "execution_count": 2,
      "outputs": [
        {
          "output_type": "stream",
          "name": "stdout",
          "text": [
            "Enter your name:ravi\n",
            "Enter your age:23\n",
            "ravi \n",
            " 23\n"
          ]
        }
      ]
    },
    {
      "cell_type": "code",
      "source": [
        "#Write code to print all the pre-defined keywords in Python using the keyword library\n",
        "import keyword\n",
        "\n",
        "print(\"list of keywords in python:\\n\",keyword.kwlist)"
      ],
      "metadata": {
        "colab": {
          "base_uri": "https://localhost:8080/"
        },
        "id": "YwyFFNQOSWWm",
        "outputId": "ea35369a-7edd-41e0-a03a-b62eecd10fd1"
      },
      "execution_count": 3,
      "outputs": [
        {
          "output_type": "stream",
          "name": "stdout",
          "text": [
            "list of keywords in python:\n",
            " ['False', 'None', 'True', 'and', 'as', 'assert', 'async', 'await', 'break', 'class', 'continue', 'def', 'del', 'elif', 'else', 'except', 'finally', 'for', 'from', 'global', 'if', 'import', 'in', 'is', 'lambda', 'nonlocal', 'not', 'or', 'pass', 'raise', 'return', 'try', 'while', 'with', 'yield']\n"
          ]
        }
      ]
    },
    {
      "cell_type": "code",
      "source": [
        "#4.Write a program that checks if a given word is a Python keyword.\n",
        "import keyword\n",
        "w=input(\"Enter any word:\")\n",
        "if keyword.iskeyword(w):\n",
        "  print(w,\"is a keyword\")\n",
        "else:\n",
        "  print(w,\"is not a keyword\")"
      ],
      "metadata": {
        "colab": {
          "base_uri": "https://localhost:8080/"
        },
        "id": "PS2UTsIYTJUt",
        "outputId": "4245d692-273d-4e18-fa54-81ac38f92e39"
      },
      "execution_count": 5,
      "outputs": [
        {
          "output_type": "stream",
          "name": "stdout",
          "text": [
            "Enter any word:may\n",
            "may is not a keyword\n"
          ]
        }
      ]
    },
    {
      "cell_type": "code",
      "source": [
        "\"\"\"5.Create a list and tuple in Python, and demonstrate how attempting to change an element works differently\n",
        "for each\"\"\"\n",
        "list1=[1,2,3,4,5]\n",
        "print(list1)\n",
        "list1[3]=6\n",
        "print(list1)"
      ],
      "metadata": {
        "colab": {
          "base_uri": "https://localhost:8080/"
        },
        "id": "cSoitGfeT-Rd",
        "outputId": "e17de45b-b90c-418c-c575-dca7e4674280"
      },
      "execution_count": 6,
      "outputs": [
        {
          "output_type": "stream",
          "name": "stdout",
          "text": [
            "[1, 2, 3, 4, 5]\n",
            "[1, 2, 3, 6, 5]\n"
          ]
        }
      ]
    },
    {
      "cell_type": "code",
      "source": [
        "#5.\n",
        "tup1=(1,2,3,4,5)\n",
        "print(tup1)\n",
        "tup1[3]=6\n",
        "print(tup1)"
      ],
      "metadata": {
        "colab": {
          "base_uri": "https://localhost:8080/",
          "height": 219
        },
        "id": "6KozU0gHUsJ5",
        "outputId": "65ceb4dd-4eb2-4dac-8497-ae2cfa7cedfe"
      },
      "execution_count": 9,
      "outputs": [
        {
          "output_type": "stream",
          "name": "stdout",
          "text": [
            "(1, 2, 3, 4, 5)\n"
          ]
        },
        {
          "output_type": "error",
          "ename": "TypeError",
          "evalue": "'tuple' object does not support item assignment",
          "traceback": [
            "\u001b[0;31m---------------------------------------------------------------------------\u001b[0m",
            "\u001b[0;31mTypeError\u001b[0m                                 Traceback (most recent call last)",
            "\u001b[0;32m<ipython-input-9-9a4ee23aba69>\u001b[0m in \u001b[0;36m<cell line: 0>\u001b[0;34m()\u001b[0m\n\u001b[1;32m      2\u001b[0m \u001b[0mtup1\u001b[0m\u001b[0;34m=\u001b[0m\u001b[0;34m(\u001b[0m\u001b[0;36m1\u001b[0m\u001b[0;34m,\u001b[0m\u001b[0;36m2\u001b[0m\u001b[0;34m,\u001b[0m\u001b[0;36m3\u001b[0m\u001b[0;34m,\u001b[0m\u001b[0;36m4\u001b[0m\u001b[0;34m,\u001b[0m\u001b[0;36m5\u001b[0m\u001b[0;34m)\u001b[0m\u001b[0;34m\u001b[0m\u001b[0;34m\u001b[0m\u001b[0m\n\u001b[1;32m      3\u001b[0m \u001b[0mprint\u001b[0m\u001b[0;34m(\u001b[0m\u001b[0mtup1\u001b[0m\u001b[0;34m)\u001b[0m\u001b[0;34m\u001b[0m\u001b[0;34m\u001b[0m\u001b[0m\n\u001b[0;32m----> 4\u001b[0;31m \u001b[0mtup1\u001b[0m\u001b[0;34m[\u001b[0m\u001b[0;36m3\u001b[0m\u001b[0;34m]\u001b[0m\u001b[0;34m=\u001b[0m\u001b[0;36m6\u001b[0m\u001b[0;34m\u001b[0m\u001b[0;34m\u001b[0m\u001b[0m\n\u001b[0m\u001b[1;32m      5\u001b[0m \u001b[0mprint\u001b[0m\u001b[0;34m(\u001b[0m\u001b[0mtup1\u001b[0m\u001b[0;34m)\u001b[0m\u001b[0;34m\u001b[0m\u001b[0;34m\u001b[0m\u001b[0m\n",
            "\u001b[0;31mTypeError\u001b[0m: 'tuple' object does not support item assignment"
          ]
        }
      ]
    },
    {
      "cell_type": "code",
      "source": [
        "#5.\n",
        "tup1=(1,2,3,4,5)\n",
        "print(tup1)\n",
        "list1=list(tup1)\n",
        "list1[3]=6\n",
        "tup2=tuple(list1)\n",
        "print(tup2)\n"
      ],
      "metadata": {
        "colab": {
          "base_uri": "https://localhost:8080/"
        },
        "id": "TJtxFwQOVO06",
        "outputId": "a7fa0e70-7f8c-48e9-edc5-ead51cb5da11"
      },
      "execution_count": 12,
      "outputs": [
        {
          "output_type": "stream",
          "name": "stdout",
          "text": [
            "(1, 2, 3, 4, 5)\n",
            "(1, 2, 3, 6, 5)\n"
          ]
        }
      ]
    },
    {
      "cell_type": "code",
      "source": [
        "# 7. Write a program that performs basic arithmetic operations on two user-input\n",
        "num1=int(input(\"Enter first number:\"))\n",
        "num2=int(input(\"Enter second number:\"))\n",
        "add=num1+num2\n",
        "print(f\"Addition of the numbers:{add}\")\n",
        "sub=num1-num2\n",
        "print(f\"Difference between the numbers is:{sub}\")\n",
        "d=num1/num2\n",
        "print(f\"division is:{d}\")\n",
        "m=num1%num2\n",
        "print(f\"Remainder is:{m}\")"
      ],
      "metadata": {
        "colab": {
          "base_uri": "https://localhost:8080/"
        },
        "id": "1ktIzsbbY39b",
        "outputId": "34a6a0d0-7c30-45a6-b051-329a92ac8d0d"
      },
      "execution_count": 14,
      "outputs": [
        {
          "output_type": "stream",
          "name": "stdout",
          "text": [
            "Enter first number:56\n",
            "Enter second number:4\n",
            "Addition of the numbers:60\n",
            "Difference between the numbers is:52\n",
            "division is:14.0\n",
            "Remainder is:0\n"
          ]
        }
      ]
    },
    {
      "cell_type": "code",
      "source": [
        "#8. Write a program to demonstrate the use of logical operators\n",
        "mark=int(input(\"Enter marks of the student:\"))\n",
        "if mark>=80:\n",
        "  print(\"A grade\")\n",
        "elif mark<80 and mark>60:\n",
        "  print(\"B grade\")\n",
        "elif mark<=60 and mark>50:\n",
        "  print(\"C grade\")\n",
        "elif mark<=50 and mark>40:\n",
        "  print(\"D grade\")\n",
        "else:\n",
        "  print(\"F grade\")"
      ],
      "metadata": {
        "colab": {
          "base_uri": "https://localhost:8080/"
        },
        "id": "AEvTdxPfaQhb",
        "outputId": "a924a2cc-6203-489e-f1de-2ca92546d593"
      },
      "execution_count": 16,
      "outputs": [
        {
          "output_type": "stream",
          "name": "stdout",
          "text": [
            "Enter marks of the student:90\n",
            "A grade\n"
          ]
        }
      ]
    },
    {
      "cell_type": "code",
      "source": [
        "#9.Write a Python program to convert user input from string to integer, float, and boolean types\n",
        "n=input(\"Enter data:\")\n",
        "i=int(n)\n",
        "print(i)\n",
        "print(type(i))"
      ],
      "metadata": {
        "colab": {
          "base_uri": "https://localhost:8080/"
        },
        "id": "r61k9MQJblK4",
        "outputId": "79bcd810-ced1-48a9-cb6b-b01d12de2654"
      },
      "execution_count": 26,
      "outputs": [
        {
          "output_type": "stream",
          "name": "stdout",
          "text": [
            "Enter data:3\n",
            "3\n",
            "<class 'int'>\n"
          ]
        }
      ]
    },
    {
      "cell_type": "code",
      "source": [
        "#9.\n",
        "n=input(\"Enter data:\")\n",
        "f=float(n)\n",
        "print(f)\n",
        "print(type(f))"
      ],
      "metadata": {
        "id": "_GVz_8bNcjn1"
      },
      "execution_count": null,
      "outputs": []
    },
    {
      "cell_type": "code",
      "source": [
        "#9.\n",
        "n=input(\"Enter data:\")\n",
        "b=bool(n)\n",
        "print(b)\n",
        "print(type(b))"
      ],
      "metadata": {
        "colab": {
          "base_uri": "https://localhost:8080/"
        },
        "id": "k1QxcI5edcrk",
        "outputId": "5b03cf14-e2ff-43ef-f1ef-502de252bce1"
      },
      "execution_count": 27,
      "outputs": [
        {
          "output_type": "stream",
          "name": "stdout",
          "text": [
            "Enter data:e\n",
            "True\n",
            "<class 'bool'>\n"
          ]
        }
      ]
    },
    {
      "cell_type": "code",
      "source": [
        "#10. Write code to demonstrate type casting with list elements.\n",
        "list1=[1,\"ravi\",2]\n",
        "print(list1)\n",
        "tup1=tuple(list1)\n",
        "print(tup1)"
      ],
      "metadata": {
        "colab": {
          "base_uri": "https://localhost:8080/"
        },
        "id": "ZjRCQ8OGduRl",
        "outputId": "081aba64-145f-48b8-a6de-61bb27e55156"
      },
      "execution_count": 20,
      "outputs": [
        {
          "output_type": "stream",
          "name": "stdout",
          "text": [
            "[1, 'ravi', 2]\n",
            "(1, 'ravi', 2)\n"
          ]
        }
      ]
    },
    {
      "cell_type": "code",
      "source": [
        "#11.Write a program that checks if a number is positive, negative, or zero.\n",
        "num=int(input(\"Enter nay number:\"))\n",
        "if num>0:\n",
        "  print(\"The number is positive\")\n",
        "elif num<0:\n",
        "  print(\"The number is negative\")\n",
        "else:\n",
        "  print(\"The number is equal to 0\")"
      ],
      "metadata": {
        "colab": {
          "base_uri": "https://localhost:8080/"
        },
        "id": "bgEVtfiMeT7h",
        "outputId": "47929397-d6ef-4405-e034-e272fe250116"
      },
      "execution_count": 23,
      "outputs": [
        {
          "output_type": "stream",
          "name": "stdout",
          "text": [
            "Enter nay number:0\n",
            "The number is equal to 0\n"
          ]
        }
      ]
    },
    {
      "cell_type": "code",
      "source": [
        "#12.Write a for loop to print numbers from 1 to 10.\n",
        "for n in range(1,11):\n",
        "  print(n)"
      ],
      "metadata": {
        "colab": {
          "base_uri": "https://localhost:8080/"
        },
        "id": "4ibljhQWfD-m",
        "outputId": "fb5ae3d5-67d9-4a65-8c2f-8fb5904626a9"
      },
      "execution_count": 24,
      "outputs": [
        {
          "output_type": "stream",
          "name": "stdout",
          "text": [
            "1\n",
            "2\n",
            "3\n",
            "4\n",
            "5\n",
            "6\n",
            "7\n",
            "8\n",
            "9\n",
            "10\n"
          ]
        }
      ]
    },
    {
      "cell_type": "code",
      "source": [
        "#13.Write a Python program to find the sum of all even numbers between 1 and 50\n",
        "sum=0\n",
        "for i in range(1,51):\n",
        "  if i%2==0:\n",
        "    sum+=i\n",
        "  else:\n",
        "    continue\n",
        "print(sum)"
      ],
      "metadata": {
        "colab": {
          "base_uri": "https://localhost:8080/"
        },
        "id": "olTAgrP5fYLv",
        "outputId": "1171b0e8-1543-42c3-88fb-1091ce791de4"
      },
      "execution_count": 29,
      "outputs": [
        {
          "output_type": "stream",
          "name": "stdout",
          "text": [
            "650\n"
          ]
        }
      ]
    },
    {
      "cell_type": "code",
      "source": [
        "#14.Write a program to reverse a string using a while loop\n",
        "s=input(\"Enter any string:\")\n",
        "c=len(s)\n",
        "r=\"\"\n",
        "while c>0:\n",
        "  r+=s[c-1]\n",
        "  c-=1\n",
        "print(f\"reversed string is:{r}\")"
      ],
      "metadata": {
        "colab": {
          "base_uri": "https://localhost:8080/"
        },
        "id": "eTEgDJeZg50c",
        "outputId": "31d16e04-3d78-4bdb-d7d5-73a9bac2d2b4"
      },
      "execution_count": 30,
      "outputs": [
        {
          "output_type": "stream",
          "name": "stdout",
          "text": [
            "Enter any string:hey\n",
            "reversed string is:yeh\n"
          ]
        }
      ]
    },
    {
      "cell_type": "code",
      "source": [
        "#15.Write a Python program to calculate the factorial of a number provided by the user using a while loop\n",
        "n=int(input(\"Enter any number:\"))\n",
        "fac=1\n",
        "j=1\n",
        "while j<=n:\n",
        "  fac*=j\n",
        "  j+=1\n",
        "print(f\"Factorial={fac}\")"
      ],
      "metadata": {
        "colab": {
          "base_uri": "https://localhost:8080/"
        },
        "id": "36lPdm8liOOi",
        "outputId": "5a590f6d-fbb0-48f0-a4e6-1f408059e12e"
      },
      "execution_count": 31,
      "outputs": [
        {
          "output_type": "stream",
          "name": "stdout",
          "text": [
            "Enter any number:5\n",
            "Factorial=120\n"
          ]
        }
      ]
    },
    {
      "cell_type": "markdown",
      "source": [],
      "metadata": {
        "id": "6gpZL_x1EUSa"
      }
    },
    {
      "cell_type": "markdown",
      "source": [],
      "metadata": {
        "id": "-FvfWFbSV4Zt"
      }
    }
  ]
}